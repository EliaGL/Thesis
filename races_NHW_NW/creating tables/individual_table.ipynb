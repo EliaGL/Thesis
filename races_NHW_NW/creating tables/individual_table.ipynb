{
 "cells": [
  {
   "cell_type": "code",
   "execution_count": 3,
   "id": "1930cff0-6653-45de-b005-a6bf9fde3e5e",
   "metadata": {},
   "outputs": [],
   "source": [
    "import pandas as pd\n",
    "from openpyxl import load_workbook\n",
    "from openpyxl import Workbook\n",
    "\n",
    "# Set file paths\n",
    "input_path = r\"C:\\Users\\user\\OneDrive - Alma Mater Studiorum Università di Bologna\\Desktop\\LMEC-2nd_year\\3rd_period\\research_methods\\thesis\\my_analysis\\Output\\Tables\\het_by_race\\individual_race_raw.xlsx\"\n",
    "output_path = r\"C:\\Users\\user\\OneDrive - Alma Mater Studiorum Università di Bologna\\Desktop\\LMEC-2nd_year\\3rd_period\\research_methods\\thesis\\my_analysis\\Output\\Tables\\het_by_race\\individual_race_table.xlsx\"\n",
    "\n",
    "# Load the Excel file\n",
    "wb = load_workbook(input_path)\n",
    "\n",
    "# Define years\n",
    "years = [str(year) for year in range(2001, 2024)]\n",
    "\n",
    "# Define helper function to extract data\n",
    "def extract_data(cell_rows):\n",
    "    data = []\n",
    "    for year in years:\n",
    "        sheet = wb[year]\n",
    "        row = {\n",
    "            \"year\": year,\n",
    "            \"coeff_NHW\": sheet[\"C\" + str(cell_rows[0])].value,\n",
    "            \"se_NHW\":    sheet[\"C\" + str(cell_rows[1])].value,\n",
    "            \"coeff_NW\": sheet[\"E\" + str(cell_rows[0])].value,\n",
    "            \"se_NW\":    sheet[\"E\" + str(cell_rows[1])].value,\n",
    "        }\n",
    "        data.append(row)\n",
    "    return pd.DataFrame(data)\n",
    "\n",
    "# Extract both tables\n",
    "df_yrssch = extract_data((2, 3))  # Cells C2, C3, etc.\n",
    "df_lnwagely = extract_data((6, 7))  # Cells C6, C7, etc.\n",
    "df_workedly = extract_data((10, 11))  # Cells C10, C11, etc.\n",
    "\n",
    "# Save to new Excel file\n",
    "with pd.ExcelWriter(output_path, engine=\"openpyxl\") as writer:\n",
    "    df_yrssch.to_excel(writer, sheet_name=\"yrssch_race\", index=False)\n",
    "    df_lnwagely.to_excel(writer, sheet_name=\"lnwagely_race\", index=False)\n",
    "    df_workedly.to_excel(writer, sheet_name=\"workedly_race\", index=False)\n"
   ]
  },
  {
   "cell_type": "code",
   "execution_count": null,
   "id": "668518d5-2710-4ec2-b607-2e074a1e2853",
   "metadata": {},
   "outputs": [],
   "source": []
  }
 ],
 "metadata": {
  "kernelspec": {
   "display_name": "Python 3 (ipykernel)",
   "language": "python",
   "name": "python3"
  },
  "language_info": {
   "codemirror_mode": {
    "name": "ipython",
    "version": 3
   },
   "file_extension": ".py",
   "mimetype": "text/x-python",
   "name": "python",
   "nbconvert_exporter": "python",
   "pygments_lexer": "ipython3",
   "version": "3.12.4"
  }
 },
 "nbformat": 4,
 "nbformat_minor": 5
}
