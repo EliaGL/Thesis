{
 "cells": [
  {
   "cell_type": "code",
   "execution_count": 4,
   "id": "d1c916fc-64f1-4626-a8a5-996766fbf130",
   "metadata": {},
   "outputs": [
    {
     "name": "stdout",
     "output_type": "stream",
     "text": [
      "Cleaning: C:\\Users\\user\\OneDrive - Alma Mater Studiorum Università di Bologna\\Desktop\\LMEC-2nd_year\\3rd_period\\research_methods\\thesis\\my_analysis\\Output\\Tables\\het_by_race\\fertility_race_raw.xlsx\n",
      "✔ Cleaned: C:\\Users\\user\\OneDrive - Alma Mater Studiorum Università di Bologna\\Desktop\\LMEC-2nd_year\\3rd_period\\research_methods\\thesis\\my_analysis\\Output\\Tables\\het_by_race\\fertility_race_raw.xlsx\n",
      "Cleaning: C:\\Users\\user\\OneDrive - Alma Mater Studiorum Università di Bologna\\Desktop\\LMEC-2nd_year\\3rd_period\\research_methods\\thesis\\my_analysis\\Output\\Tables\\het_by_race\\individual_race_raw.xlsx\n",
      "✔ Cleaned: C:\\Users\\user\\OneDrive - Alma Mater Studiorum Università di Bologna\\Desktop\\LMEC-2nd_year\\3rd_period\\research_methods\\thesis\\my_analysis\\Output\\Tables\\het_by_race\\individual_race_raw.xlsx\n",
      "Cleaning: C:\\Users\\user\\OneDrive - Alma Mater Studiorum Università di Bologna\\Desktop\\LMEC-2nd_year\\3rd_period\\research_methods\\thesis\\my_analysis\\Output\\Tables\\het_by_race\\spouse_age_and_educ_race_raw.xlsx\n",
      "✔ Cleaned: C:\\Users\\user\\OneDrive - Alma Mater Studiorum Università di Bologna\\Desktop\\LMEC-2nd_year\\3rd_period\\research_methods\\thesis\\my_analysis\\Output\\Tables\\het_by_race\\spouse_age_and_educ_race_raw.xlsx\n",
      "Cleaning: C:\\Users\\user\\OneDrive - Alma Mater Studiorum Università di Bologna\\Desktop\\LMEC-2nd_year\\3rd_period\\research_methods\\thesis\\my_analysis\\Output\\Tables\\het_by_race\\spouse_labour_race_raw.xlsx\n",
      "✔ Cleaned: C:\\Users\\user\\OneDrive - Alma Mater Studiorum Università di Bologna\\Desktop\\LMEC-2nd_year\\3rd_period\\research_methods\\thesis\\my_analysis\\Output\\Tables\\het_by_race\\spouse_labour_race_raw.xlsx\n",
      "Cleaning: C:\\Users\\user\\OneDrive - Alma Mater Studiorum Università di Bologna\\Desktop\\LMEC-2nd_year\\3rd_period\\research_methods\\thesis\\my_analysis\\Output\\Tables\\het_by_race\\spouse_nat_and_ethn_race_raw.xlsx\n",
      "✔ Cleaned: C:\\Users\\user\\OneDrive - Alma Mater Studiorum Università di Bologna\\Desktop\\LMEC-2nd_year\\3rd_period\\research_methods\\thesis\\my_analysis\\Output\\Tables\\het_by_race\\spouse_nat_and_ethn_race_raw.xlsx\n"
     ]
    }
   ],
   "source": [
    "import os\n",
    "from openpyxl import load_workbook\n",
    "\n",
    "# Define the target directory\n",
    "directory = r\"C:\\Users\\user\\OneDrive - Alma Mater Studiorum Università di Bologna\\Desktop\\LMEC-2nd_year\\3rd_period\\research_methods\\thesis\\my_analysis\\Output\\Tables\\het_by_race\"\n",
    "\n",
    "# Loop through files ending with 'raw.xlsx'\n",
    "for filename in os.listdir(directory):\n",
    "    if filename.endswith(\"raw.xlsx\"):\n",
    "        file_path = os.path.join(directory, filename)\n",
    "        print(f\"Cleaning: {file_path}\")\n",
    "\n",
    "        # Load workbook\n",
    "        wb = load_workbook(file_path)\n",
    "\n",
    "        # Clear content of all sheets\n",
    "        for sheet in wb.sheetnames:\n",
    "            ws = wb[sheet]\n",
    "            # Clear all cell values\n",
    "            for row in ws.iter_rows():\n",
    "                for cell in row:\n",
    "                    cell.value = None\n",
    "\n",
    "        # Save the cleaned workbook\n",
    "        wb.save(file_path)\n",
    "        print(f\"✔ Cleaned: {file_path}\")\n"
   ]
  },
  {
   "cell_type": "code",
   "execution_count": null,
   "id": "193c94ee-aa4a-41b3-a3d2-21542300dc0a",
   "metadata": {},
   "outputs": [],
   "source": []
  }
 ],
 "metadata": {
  "kernelspec": {
   "display_name": "Python 3 (ipykernel)",
   "language": "python",
   "name": "python3"
  },
  "language_info": {
   "codemirror_mode": {
    "name": "ipython",
    "version": 3
   },
   "file_extension": ".py",
   "mimetype": "text/x-python",
   "name": "python",
   "nbconvert_exporter": "python",
   "pygments_lexer": "ipython3",
   "version": "3.12.4"
  }
 },
 "nbformat": 4,
 "nbformat_minor": 5
}
