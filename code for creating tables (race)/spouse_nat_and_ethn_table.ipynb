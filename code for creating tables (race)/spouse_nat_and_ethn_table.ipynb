{
 "cells": [
  {
   "cell_type": "code",
   "execution_count": 4,
   "id": "f3c175fe-2d0d-492e-ae60-1c0a9534e8cf",
   "metadata": {},
   "outputs": [],
   "source": [
    "import pandas as pd\n",
    "from openpyxl import load_workbook\n",
    "from openpyxl import Workbook\n",
    "\n",
    "# Set file paths\n",
    "input_path = r\"C:\\Users\\user\\OneDrive - Alma Mater Studiorum Università di Bologna\\Desktop\\LMEC-2nd_year\\3rd_period\\research_methods\\thesis\\my_analysis\\Output\\Tables\\het_by_race\\spouse_nat_and_ethn_race_raw.xlsx\"\n",
    "output_path = r\"C:\\Users\\user\\OneDrive - Alma Mater Studiorum Università di Bologna\\Desktop\\LMEC-2nd_year\\3rd_period\\research_methods\\thesis\\my_analysis\\Output\\Tables\\het_by_race\\spouse_nat_and_ethn_race_table.xlsx\"\n",
    "\n",
    "# Load the Excel file\n",
    "wb = load_workbook(input_path)\n",
    "\n",
    "# Define years\n",
    "years = [str(year) for year in range(2001, 2024)]\n",
    "\n",
    "# Define helper function to extract data\n",
    "def extract_data(cell_rows):\n",
    "    data = []\n",
    "    for year in years:\n",
    "        sheet = wb[year]\n",
    "        row = {\n",
    "            \"year\": year,\n",
    "            \"coeff_NHW\": sheet[\"C\" + str(cell_rows[0])].value,\n",
    "            \"se_NHW\":    sheet[\"C\" + str(cell_rows[1])].value,\n",
    "            \"coeff_NHB\": sheet[\"E\" + str(cell_rows[0])].value,\n",
    "            \"se_NHB\":    sheet[\"E\" + str(cell_rows[1])].value,\n",
    "            \"coeff_HIS\": sheet[\"G\" + str(cell_rows[0])].value,\n",
    "            \"se_HIS\":    sheet[\"G\" + str(cell_rows[1])].value,\n",
    "            \"coeff_ONH\": sheet[\"I\" + str(cell_rows[0])].value,\n",
    "            \"se_ONH\":    sheet[\"I\" + str(cell_rows[1])].value\n",
    "        }\n",
    "        data.append(row)\n",
    "    return pd.DataFrame(data)\n",
    "\n",
    "# Extract both tables\n",
    "df_spouseeng = extract_data((2, 3))  # Cells C2, C3, etc.\n",
    "df_marriednative = extract_data((6, 7))  # Cells C6, C7, etc.\n",
    "df_couplesamebpld = extract_data((10, 11))  # Cells C10, C11, etc.\n",
    "df_couplesameancestry1 = extract_data((14, 15))  # Cells C14, C15, etc.\n",
    "\n",
    "# Save to new Excel file\n",
    "with pd.ExcelWriter(output_path, engine=\"openpyxl\") as writer:\n",
    "    df_spouseeng.to_excel(writer, sheet_name=\"spouseeng_race\", index=False)\n",
    "    df_marriednative.to_excel(writer, sheet_name=\"marriednative_race\", index=False)\n",
    "    df_couplesamebpld.to_excel(writer, sheet_name=\"couplesamebpld_race\", index=False)\n",
    "    df_couplesameancestry1.to_excel(writer, sheet_name=\"couplesameancestry1_race\", index=False)\n"
   ]
  },
  {
   "cell_type": "code",
   "execution_count": null,
   "id": "38d3f973-9437-4e6f-8212-d108684a7b29",
   "metadata": {},
   "outputs": [],
   "source": []
  },
  {
   "cell_type": "code",
   "execution_count": null,
   "id": "d79f122f-7732-4a4e-819f-c1a4ec27c085",
   "metadata": {},
   "outputs": [],
   "source": []
  }
 ],
 "metadata": {
  "kernelspec": {
   "display_name": "Python 3 (ipykernel)",
   "language": "python",
   "name": "python3"
  },
  "language_info": {
   "codemirror_mode": {
    "name": "ipython",
    "version": 3
   },
   "file_extension": ".py",
   "mimetype": "text/x-python",
   "name": "python",
   "nbconvert_exporter": "python",
   "pygments_lexer": "ipython3",
   "version": "3.12.4"
  }
 },
 "nbformat": 4,
 "nbformat_minor": 5
}
